{
 "cells": [
  {
   "cell_type": "code",
   "execution_count": 8,
   "metadata": {},
   "outputs": [],
   "source": [
    "import cv2\n",
    "from PIL import Image\n",
    "import os"
   ]
  },
  {
   "cell_type": "code",
   "execution_count": 11,
   "metadata": {
    "scrolled": false
   },
   "outputs": [
    {
     "name": "stdout",
     "output_type": "stream",
     "text": [
      "['/media/zheng/backup/shipclassification/dataset/rootdir/industrial', '/media/zheng/backup/shipclassification/dataset/rootdir/cargo', '/media/zheng/backup/shipclassification/dataset/rootdir/passenger', '/media/zheng/backup/shipclassification/dataset/rootdir/fishing', '/media/zheng/backup/shipclassification/dataset/rootdir/warship', '/media/zheng/backup/shipclassification/dataset/rootdir/platform', '/media/zheng/backup/shipclassification/dataset/rootdir/industrial/del', '/media/zheng/backup/shipclassification/dataset/rootdir/cargo/oil tank', '/media/zheng/backup/shipclassification/dataset/rootdir/cargo/bulk cargo', '/media/zheng/backup/shipclassification/dataset/rootdir/cargo/gas tank', '/media/zheng/backup/shipclassification/dataset/rootdir/cargo/container', '/media/zheng/backup/shipclassification/dataset/rootdir/passenger/ferry', '/media/zheng/backup/shipclassification/dataset/rootdir/passenger/boat', '/media/zheng/backup/shipclassification/dataset/rootdir/passenger/yacht', '/media/zheng/backup/shipclassification/dataset/rootdir/warship/submarine', '/media/zheng/backup/shipclassification/dataset/rootdir/warship/cruiser_xunyangjian', '/media/zheng/backup/shipclassification/dataset/rootdir/warship/missle ship', '/media/zheng/backup/shipclassification/dataset/rootdir/warship/corvette_huweijian', '/media/zheng/backup/shipclassification/dataset/rootdir/warship/combat ship']\n"
     ]
    }
   ],
   "source": [
    "#format from bmp to png\n",
    "# directory = r'./container'\n",
    "def fast_scandir(dirname):\n",
    "    subfolders= [f.path for f in os.scandir(dirname) if f.is_dir()]\n",
    "    for dirname in list(subfolders):\n",
    "        subfolders.extend(fast_scandir(dirname))\n",
    "    return subfolders\n",
    "\n",
    "read_dir = fast_scandir('/media/zheng/backup/shipclassification/dataset/rootdir/')\n",
    "#print(read_dir)"
   ]
  },
  {
   "cell_type": "code",
   "execution_count": 18,
   "metadata": {},
   "outputs": [],
   "source": [
    "for dire in read_dir:    \n",
    "    for filename in os.listdir(dire):\n",
    "        if filename.endswith(\".bmp\"):\n",
    "            im = Image.open(dire + '/' + filename)\n",
    "            name = filename[:-4]\n",
    "            im.save(dire + '/' + name + '.png')        \n",
    "        else:\n",
    "            continue"
   ]
  },
  {
   "cell_type": "code",
   "execution_count": null,
   "metadata": {},
   "outputs": [],
   "source": [
    "#resize\n",
    "# img_output_path = r\"data/output/girl_model.png\"\n",
    "# resized_image = cv2.resize(image, (512, 512)) "
   ]
  },
  {
   "cell_type": "code",
   "execution_count": 1,
   "metadata": {},
   "outputs": [],
   "source": [
    "# for more container\n",
    "import cv2\n",
    "from PIL import Image\n",
    "import os\n",
    "\n",
    "dire = '/media/zheng/backup/shipclassification/dataset/more_container/'\n",
    "\n",
    "   \n",
    "for filename in os.listdir(dire):\n",
    "    if filename.endswith(\".jpg\"):\n",
    "        im = Image.open(dire + '/' + filename)\n",
    "        name = filename[:-4]\n",
    "        im.save(dire + '/' + name + '.png')        \n",
    "    else:\n",
    "        continue"
   ]
  },
  {
   "cell_type": "code",
   "execution_count": null,
   "metadata": {},
   "outputs": [],
   "source": []
  }
 ],
 "metadata": {
  "kernelspec": {
   "display_name": "py37",
   "language": "python",
   "name": "py37"
  },
  "language_info": {
   "codemirror_mode": {
    "name": "ipython",
    "version": 3
   },
   "file_extension": ".py",
   "mimetype": "text/x-python",
   "name": "python",
   "nbconvert_exporter": "python",
   "pygments_lexer": "ipython3",
   "version": "3.7.12"
  }
 },
 "nbformat": 4,
 "nbformat_minor": 4
}
